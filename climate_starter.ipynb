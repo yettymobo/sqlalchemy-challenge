{
 "cells": [
  {
   "cell_type": "code",
   "execution_count": 452,
   "metadata": {},
   "outputs": [],
   "source": [
    "%matplotlib inline\n",
    "from matplotlib import style\n",
    "style.use('fivethirtyeight')\n",
    "import matplotlib.pyplot as plt"
   ]
  },
  {
   "cell_type": "code",
   "execution_count": 453,
   "metadata": {},
   "outputs": [],
   "source": [
    "import numpy as np\n",
    "import pandas as pd"
   ]
  },
  {
   "cell_type": "code",
   "execution_count": 454,
   "metadata": {},
   "outputs": [],
   "source": [
    "import datetime as dt\n",
    "from datetime import date"
   ]
  },
  {
   "cell_type": "markdown",
   "metadata": {},
   "source": [
    "# Reflect Tables into SQLAlchemy ORM"
   ]
  },
  {
   "cell_type": "code",
   "execution_count": 455,
   "metadata": {},
   "outputs": [],
   "source": [
    "# Python SQL toolkit and Object Relational Mapper\n",
    "import sqlalchemy\n",
    "from sqlalchemy.ext.automap import automap_base\n",
    "from sqlalchemy.orm import Session\n",
    "from sqlalchemy import create_engine, func, inspect, and_, or_, Date"
   ]
  },
  {
   "cell_type": "code",
   "execution_count": 456,
   "metadata": {},
   "outputs": [],
   "source": [
    "engine = create_engine(\"sqlite:///Resources/hawaii.sqlite\")\n",
    "inspector = inspect(engine)"
   ]
  },
  {
   "cell_type": "code",
   "execution_count": 457,
   "metadata": {},
   "outputs": [],
   "source": [
    "# reflect an existing database into a new model\n",
    "Base = automap_base()\n",
    "# reflect the tables\n",
    "Base.prepare(engine, reflect=True)"
   ]
  },
  {
   "cell_type": "code",
   "execution_count": 458,
   "metadata": {},
   "outputs": [
    {
     "data": {
      "text/plain": [
       "['measurement', 'station']"
      ]
     },
     "execution_count": 458,
     "metadata": {},
     "output_type": "execute_result"
    }
   ],
   "source": [
    "# We can view all of the classes that automap found\n",
    "Base.classes.keys()"
   ]
  },
  {
   "cell_type": "code",
   "execution_count": 459,
   "metadata": {},
   "outputs": [],
   "source": [
    "# Save references to each table\n",
    "Measurement = Base.classes.measurement\n",
    "Station = Base.classes.station"
   ]
  },
  {
   "cell_type": "code",
   "execution_count": 460,
   "metadata": {},
   "outputs": [],
   "source": [
    "# Create our session (link) from Python to the DB\n",
    "session = Session(engine)\n"
   ]
  },
  {
   "cell_type": "markdown",
   "metadata": {},
   "source": [
    "# Exploratory Climate Analysis"
   ]
  },
  {
   "cell_type": "code",
   "execution_count": 461,
   "metadata": {},
   "outputs": [
    {
     "data": {
      "image/png": "[encoded data removed]",
      "text/plain": [
       "<Figure size 1440x648 with 1 Axes>"
      ]
     },
     "metadata": {},
     "output_type": "display_data"
    }
   ],
   "source": [
    "# Design a query to retrieve the last 12 months of precipitation data and plot the results\n",
    "\n",
    "        # Find most recent date of record\n",
    "most_recent_date = session.query(func.strftime('%m/%d/%Y', Measurement.date)).order_by(Measurement.date.desc()).limit(1).all() \n",
    "max_date = [x[0] for x in most_recent_date]\n",
    "max_date = (max_date[0])\n",
    "\n",
    "      \n",
    "max_date = dt.datetime.strptime(max_date,'%m/%d/%Y')\n",
    "\n",
    "\n",
    "# Calculate the date 1 year ago from the last data point in the database\n",
    "year_ago = max_date - dt.timedelta(days=365)\n",
    "\n",
    "        # Format dates for filtering\n",
    "maxdatey = int(date.strftime(max_date,'%Y'))\n",
    "maxdatem = int(date.strftime(max_date,'%m'))\n",
    "maxdated = int(date.strftime(max_date,'%d'))\n",
    "\n",
    "yearago = date.strftime(year_ago,'%m/%d/%Y')\n",
    "yearagoy = int(date.strftime(year_ago,'%Y'))\n",
    "yearagom = int(date.strftime(year_ago,'%m'))\n",
    "yearagod = int(date.strftime(year_ago,'%d'))\n",
    "\n",
    "yearago = dt.date(yearagoy, yearagom, yearagod)\n",
    "maxdate = dt.date(maxdatey, maxdatem, maxdated)\n",
    "\n",
    "\n",
    "\n",
    "# Perform a query to retrieve the data and precipitation scores\n",
    " \n",
    "last_12 = session.query(Measurement.date,Measurement.prcp).filter(Measurement.date > yearago).filter(Measurement.date <= maxdate).order_by(Measurement.date.desc()).all()\n",
    "\n",
    "\n",
    "# Save the query results as a Pandas DataFrame and set the index to the date column\n",
    "df = pd.DataFrame(last_12, columns=['date', 'prcp'])\n",
    "df = df.set_index('date')\n",
    "\n",
    "# # Sort the dataframe by date\n",
    "df = df.sort_values('date', axis = 0, ascending = True)\n",
    "\n",
    "\n",
    "# # Use Pandas Plotting with Matplotlib to plot the data\n",
    "\n",
    "fig, ax = plt.subplots(figsize=(20, 9))\n",
    "\n",
    "# Add x-axis and y-axis\n",
    "ax.bar(df.index.values,\n",
    "        df['prcp'],\n",
    "        color='purple')\n",
    "\n",
    "# Set title and labels for axes\n",
    "ax.set(xlabel=\"Date\",\n",
    "       ylabel=\"Precipitation (inches)\",\n",
    "       title=\"Last 12 months of Precipitation Scores\")\n",
    "\n",
    "# Rotate tick marks on x-axis\n",
    "plt.tick_params(axis='x',  which='both', bottom=False, top=False, labelbottom=False)\n",
    "\n",
    "plt.show()\n",
    "\n"
   ]
  },
  {
   "cell_type": "code",
   "execution_count": 462,
   "metadata": {},
   "outputs": [
    {
     "data": {
      "text/html": [
       "<div>\n",
       "<style scoped>\n",
       "    .dataframe tbody tr th:only-of-type {\n",
       "        vertical-align: middle;\n",
       "    }\n",
       "\n",
       "    .dataframe tbody tr th {\n",
       "        vertical-align: top;\n",
       "    }\n",
       "\n",
       "    .dataframe thead th {\n",
       "        text-align: right;\n",
       "    }\n",
       "</style>\n",
       "<table border=\"1\" class=\"dataframe\">\n",
       "  <thead>\n",
       "    <tr style=\"text-align: right;\">\n",
       "      <th></th>\n",
       "      <th>prcp</th>\n",
       "    </tr>\n",
       "  </thead>\n",
       "  <tbody>\n",
       "    <tr>\n",
       "      <th>count</th>\n",
       "      <td>2015.000000</td>\n",
       "    </tr>\n",
       "    <tr>\n",
       "      <th>mean</th>\n",
       "      <td>0.176462</td>\n",
       "    </tr>\n",
       "    <tr>\n",
       "      <th>std</th>\n",
       "      <td>0.460288</td>\n",
       "    </tr>\n",
       "    <tr>\n",
       "      <th>min</th>\n",
       "      <td>0.000000</td>\n",
       "    </tr>\n",
       "    <tr>\n",
       "      <th>25%</th>\n",
       "      <td>0.000000</td>\n",
       "    </tr>\n",
       "    <tr>\n",
       "      <th>50%</th>\n",
       "      <td>0.020000</td>\n",
       "    </tr>\n",
       "    <tr>\n",
       "      <th>75%</th>\n",
       "      <td>0.130000</td>\n",
       "    </tr>\n",
       "    <tr>\n",
       "      <th>max</th>\n",
       "      <td>6.700000</td>\n",
       "    </tr>\n",
       "  </tbody>\n",
       "</table>\n",
       "</div>"
      ],
      "text/plain": [
       "              prcp\n",
       "count  2015.000000\n",
       "mean      0.176462\n",
       "std       0.460288\n",
       "min       0.000000\n",
       "25%       0.000000\n",
       "50%       0.020000\n",
       "75%       0.130000\n",
       "max       6.700000"
      ]
     },
     "execution_count": 462,
     "metadata": {},
     "output_type": "execute_result"
    }
   ],
   "source": [
    "# Use Pandas to calcualte the summary statistics for the precipitation data\n",
    "df[['prcp']].describe()\n"
   ]
  },
  {
   "cell_type": "code",
   "execution_count": 463,
   "metadata": {},
   "outputs": [
    {
     "name": "stdout",
     "output_type": "stream",
     "text": [
      "There are 9 stations in the dataset\n"
     ]
    }
   ],
   "source": [
    "# Design a query to show how many stations are available in this dataset?\n",
    "stations = session.query(Measurement.station).distinct(Measurement.station).count()\n",
    "print(f'There are {9} stations in the dataset')"
   ]
  },
  {
   "cell_type": "code",
   "execution_count": 464,
   "metadata": {},
   "outputs": [
    {
     "name": "stdout",
     "output_type": "stream",
     "text": [
      "[('USC00519281', 2772), ('USC00519397', 2724), ('USC00513117', 2709), ('USC00519523', 2669), ('USC00516128', 2612), ('USC00514830', 2202), ('USC00511918', 1979), ('USC00517948', 1372), ('USC00518838', 511)]\n",
      "The top 3 stations from highest to lowest are USC00519281, USC00519397, and USC00513117\n"
     ]
    }
   ],
   "source": [
    "# What are the most active stations? (i.e. what stations have the most rows)?\n",
    "    # List the stations and the counts in descending order.\n",
    "measurement_count = func.count(Measurement.id)\n",
    "Activity = session.query(Measurement.station, measurement_count).group_by(Measurement.station).order_by(measurement_count.desc()).all()\n",
    "print(Activity)\n",
    "\n",
    "    # What are the most active stations? (i.e. what stations have the most rows)?\n",
    "Active = (Activity[0:3])\n",
    "print(f'The top 3 stations from highest to lowest are {Active[0][0]}, {Active[1][0]}, and {Active[2][0]}')\n"
   ]
  },
  {
   "cell_type": "code",
   "execution_count": 465,
   "metadata": {},
   "outputs": [
    {
     "name": "stdout",
     "output_type": "stream",
     "text": [
      "USC00519281\n",
      "The lowest temperature recorded for USC00519281 is 54.0 degrees\n",
      "The highest temperature recorded for USC00519281 is 85.0 degrees\n",
      "The average temperature recorded for USC00519281 is 71.66378066378067 degrees\n"
     ]
    }
   ],
   "source": [
    "# Using the station id from the previous query, calculate the lowest temperature recorded, \n",
    "# highest temperature recorded, and average temperature of the most active station?\n",
    "Highest = Active[0][0]\n",
    "print(Highest)\n",
    "\n",
    "Lowest_temp = session.query(func.min(Measurement.tobs)).filter(Measurement.station==Highest).all()\n",
    "Highest_temp = session.query(func.max(Measurement.tobs)).filter(Measurement.station==Highest).all()\n",
    "Average_temp = session.query(func.avg(Measurement.tobs)).filter(Measurement.station==Highest).all()\n",
    "\n",
    "print(f'The lowest temperature recorded for {Highest} is {Lowest_temp[0][0]} degrees')\n",
    "print(f'The highest temperature recorded for {Highest} is {Highest_temp[0][0]} degrees')\n",
    "print(f'The average temperature recorded for {Highest} is {Average_temp[0][0]} degrees')\n"
   ]
  },
  {
   "cell_type": "code",
   "execution_count": 466,
   "metadata": {},
   "outputs": [
    {
     "data": {
      "image/png": "[encoded data removed]",
      "text/plain": [
       "<Figure size 1152x648 with 1 Axes>"
      ]
     },
     "metadata": {},
     "output_type": "display_data"
    }
   ],
   "source": [
    "# Choose the station with the highest number of temperature observations.\n",
    "# Query the last 12 months of temperature observation data for this station and plot the results as a histogram\n",
    "\n",
    "\n",
    "        # Find most recent date of record for station\n",
    "most_recent_date = session.query(func.strftime('%m/%d/%Y', Measurement.date)).filter(Measurement.station==Highest).order_by(Measurement.date.desc()).limit(1).all() \n",
    "max_dateh = [x[0] for x in most_recent_date]\n",
    "max_dateh = (max_dateh[0])\n",
    "\n",
    "        #Calculate date 12 months from most recent date\n",
    "max_dateh = dt.datetime.strptime(max_dateh,'%m/%d/%Y')\n",
    "\n",
    "# Calculate the date 1 year ago from the last data point in the database\n",
    "year_agoh = max_dateh - dt.timedelta(days=365)\n",
    "\n",
    "\n",
    "        # Format dates for filtering\n",
    "maxdateyh = int(date.strftime(max_dateh,'%Y'))\n",
    "maxdatemh = int(date.strftime(max_dateh,'%m'))\n",
    "maxdatedh = int(date.strftime(max_dateh,'%d'))\n",
    "\n",
    "yearagoh = date.strftime(year_agoh,'%m/%d/%Y')\n",
    "yearagoyh = int(date.strftime(year_agoh,'%Y'))\n",
    "yearagomh = int(date.strftime(year_agoh,'%m'))\n",
    "yearagodh = int(date.strftime(year_agoh,'%d'))\n",
    "\n",
    "yearagoh = dt.date(yearagoyh, yearagomh, yearagodh)\n",
    "maxdateh = dt.date(maxdateyh, maxdatemh, maxdatedh)\n",
    "\n",
    "\n",
    "      \n",
    "\n",
    "highest_12 = session.query(Measurement.date,Measurement.tobs).filter(Measurement.station==Highest).filter(Measurement.date > yearagoh).filter(Measurement.date <= maxdateh).order_by(Measurement.date.desc()).all()\n",
    "\n",
    "dfh = pd.DataFrame(highest_12, columns=['date', 'tobs'])\n",
    "dfh = dfh.set_index('date')\n",
    "\n",
    "\n",
    "dfh.plot(figsize=(16,9), kind = 'hist',color = 'blue', title = 'Last 12 months of Temp Observations for USC00519281',  fontsize = 12)\n",
    "\n",
    "plt.tight_layout()\n",
    "plt.show()\n"
   ]
  },
  {
   "cell_type": "markdown",
   "metadata": {},
   "source": [
    "## Bonus Challenge Assignment"
   ]
  },
  {
   "cell_type": "code",
   "execution_count": 467,
   "metadata": {},
   "outputs": [
    {
     "name": "stdout",
     "output_type": "stream",
     "text": [
      "[(62.0, 69.57142857142857, 74.0)]\n"
     ]
    }
   ],
   "source": [
    "# This function called `calc_temps` will accept start date and end date in the format '%Y-%m-%d' \n",
    "# and return the minimum, average, and maximum temperatures for that range of dates\n",
    "def calc_temps(start_date, end_date):\n",
    "    \"\"\"TMIN, TAVG, and TMAX for a list of dates.\n",
    "    \n",
    "    Args:\n",
    "        start_date (string): A date string in the format %Y-%m-%d\n",
    "        end_date (string): A date string in the format %Y-%m-%d\n",
    "        \n",
    "    Returns:\n",
    "        TMIN, TAVE, and TMAX\n",
    "    \"\"\"\n",
    "    \n",
    "    return session.query(func.min(Measurement.tobs), func.avg(Measurement.tobs), func.max(Measurement.tobs)).\\\n",
    "        filter(Measurement.date >= start_date).filter(Measurement.date <= end_date).all()\n",
    "\n",
    "# function usage example\n",
    "print(calc_temps('2012-02-28', '2012-03-05'))"
   ]
  },
  {
   "cell_type": "code",
   "execution_count": 468,
   "metadata": {},
   "outputs": [
    {
     "name": "stdout",
     "output_type": "stream",
     "text": [
      "[(72.0, 78.25806451612904, 82.0)]\n"
     ]
    }
   ],
   "source": [
    "# Use your previous function `calc_temps` to calculate the tmin, tavg, and tmax \n",
    "# for your trip using the previous year's data for those same dates.\n",
    "temp_list = (calc_temps('2017-07-20', '2017-07-24'))\n",
    "print(temp_list)"
   ]
  },
  {
   "cell_type": "code",
   "execution_count": 469,
   "metadata": {},
   "outputs": [
    {
     "data": {
      "image/png": "[encoded data removed]",
      "text/plain": [
       "<Figure size 1152x648 with 1 Axes>"
      ]
     },
     "metadata": {},
     "output_type": "display_data"
    }
   ],
   "source": [
    "# Plot the results from your previous query as a bar chart. \n",
    "# Use \"Trip Avg Temp\" as your Title\n",
    "# Use the average temperature for the y value\n",
    "# Use the peak-to-peak (tmax-tmin) value as the y error bar (yerr)\n",
    "y_axis = temp_list[0][1]\n",
    "x_axis = np.arange(len(temp_list[0])-1)\n",
    "yerr1 = temp_list[0][0]\n",
    "yerr2 = temp_list[0][2]\n",
    "title = 'Trip Avg Temp'\n",
    "\n",
    "\n",
    "plt.figure(figsize=(16,9))\n",
    "\n",
    "plt.bar(x_axis, y_axis, yerr = (yerr1, yerr2))\n",
    "plt.title(title)\n",
    "plt.tight_layout()\n",
    "plt.show()"
   ]
  },
  {
   "cell_type": "code",
   "execution_count": 470,
   "metadata": {},
   "outputs": [
    {
     "data": {
      "text/html": [
       "<div>\n",
       "<style scoped>\n",
       "    .dataframe tbody tr th:only-of-type {\n",
       "        vertical-align: middle;\n",
       "    }\n",
       "\n",
       "    .dataframe tbody tr th {\n",
       "        vertical-align: top;\n",
       "    }\n",
       "\n",
       "    .dataframe thead th {\n",
       "        text-align: right;\n",
       "    }\n",
       "</style>\n",
       "<table border=\"1\" class=\"dataframe\">\n",
       "  <thead>\n",
       "    <tr style=\"text-align: right;\">\n",
       "      <th></th>\n",
       "      <th>Total Rainfall</th>\n",
       "      <th>Station</th>\n",
       "      <th>Latitude</th>\n",
       "      <th>Longitude</th>\n",
       "      <th>Elevation</th>\n",
       "    </tr>\n",
       "  </thead>\n",
       "  <tbody>\n",
       "    <tr>\n",
       "      <th>0</th>\n",
       "      <td>1.288</td>\n",
       "      <td>USC00516128</td>\n",
       "      <td>21.33310</td>\n",
       "      <td>-157.80250</td>\n",
       "      <td>152.4</td>\n",
       "    </tr>\n",
       "    <tr>\n",
       "      <th>1</th>\n",
       "      <td>0.276</td>\n",
       "      <td>USC00514830</td>\n",
       "      <td>21.52130</td>\n",
       "      <td>-157.83740</td>\n",
       "      <td>7.0</td>\n",
       "    </tr>\n",
       "    <tr>\n",
       "      <th>2</th>\n",
       "      <td>0.220</td>\n",
       "      <td>USC00519281</td>\n",
       "      <td>21.45167</td>\n",
       "      <td>-157.84889</td>\n",
       "      <td>32.9</td>\n",
       "    </tr>\n",
       "    <tr>\n",
       "      <th>3</th>\n",
       "      <td>0.166</td>\n",
       "      <td>USC00513117</td>\n",
       "      <td>21.42340</td>\n",
       "      <td>-157.80150</td>\n",
       "      <td>14.6</td>\n",
       "    </tr>\n",
       "    <tr>\n",
       "      <th>4</th>\n",
       "      <td>0.110</td>\n",
       "      <td>USC00519523</td>\n",
       "      <td>21.33556</td>\n",
       "      <td>-157.71139</td>\n",
       "      <td>19.5</td>\n",
       "    </tr>\n",
       "    <tr>\n",
       "      <th>5</th>\n",
       "      <td>0.022</td>\n",
       "      <td>USC00519397</td>\n",
       "      <td>21.27160</td>\n",
       "      <td>-157.81680</td>\n",
       "      <td>3.0</td>\n",
       "    </tr>\n",
       "    <tr>\n",
       "      <th>6</th>\n",
       "      <td>0.000</td>\n",
       "      <td>USC00517948</td>\n",
       "      <td>21.39340</td>\n",
       "      <td>-157.97510</td>\n",
       "      <td>11.9</td>\n",
       "    </tr>\n",
       "  </tbody>\n",
       "</table>\n",
       "</div>"
      ],
      "text/plain": [
       "   Total Rainfall      Station  Latitude  Longitude  Elevation\n",
       "0           1.288  USC00516128  21.33310 -157.80250      152.4\n",
       "1           0.276  USC00514830  21.52130 -157.83740        7.0\n",
       "2           0.220  USC00519281  21.45167 -157.84889       32.9\n",
       "3           0.166  USC00513117  21.42340 -157.80150       14.6\n",
       "4           0.110  USC00519523  21.33556 -157.71139       19.5\n",
       "5           0.022  USC00519397  21.27160 -157.81680        3.0\n",
       "6           0.000  USC00517948  21.39340 -157.97510       11.9"
      ]
     },
     "execution_count": 470,
     "metadata": {},
     "output_type": "execute_result"
    }
   ],
   "source": [
    "# Calculate the total amount of rainfall per weather station for your trip dates using the previous year's matching dates.\n",
    "# Sort this in descending order by precipitation amount and list the station, name, latitude, longitude, and elevation\n",
    "start2017 = dt.date(2017, 7, 20)\n",
    "end2017 = dt.date(2017, 7, 24)\n",
    "\n",
    "amount = func.avg(Measurement.prcp)\n",
    "\n",
    "combined = session.query(amount, Station.station, Station.latitude, Station.longitude, Station.elevation).join(Measurement, Measurement.station == Station.station).filter(Measurement.date >= start2017).filter(Measurement.date <= end2017).group_by(Measurement.station).order_by(amount.desc()).all() \n",
    "\n",
    "dfc = pd.DataFrame(combined, columns=['Total Rainfall', 'Station', 'Latitude', 'Longitude', 'Elevation'])\n",
    "dfc.head(10)"
   ]
  },
  {
   "cell_type": "code",
   "execution_count": 471,
   "metadata": {},
   "outputs": [
    {
     "data": {
      "text/plain": [
       "[(62.0, 69.15384615384616, 77.0)]"
      ]
     },
     "execution_count": 471,
     "metadata": {},
     "output_type": "execute_result"
    }
   ],
   "source": [
    "# Create a query that will calculate the daily normals \n",
    "# (i.e. the averages for tmin, tmax, and tavg for all historic data matching a specific month and day)\n",
    "\n",
    "def daily_normals(date):\n",
    "    \"\"\"Daily Normals.\n",
    "    \n",
    "    Args:\n",
    "        date (str): A date string in the format '%m-%d'\n",
    "        \n",
    "    Returns:\n",
    "        A list of tuples containing the daily normals, tmin, tavg, and tmax\n",
    "    \n",
    "    \"\"\"\n",
    "    \n",
    "    sel = [func.min(Measurement.tobs), func.avg(Measurement.tobs), func.max(Measurement.tobs)]\n",
    "    return session.query(*sel).filter(func.strftime(\"%m-%d\", Measurement.date) == date).all()\n",
    "    \n",
    "daily_normals(\"01-01\")"
   ]
  },
  {
   "cell_type": "code",
   "execution_count": 472,
   "metadata": {},
   "outputs": [
    {
     "name": "stdout",
     "output_type": "stream",
     "text": [
      "['07-20', '07-21', '07-22', '07-23', '07-24']\n",
      "[[69.0, 75.46296296296296, 82.0], [69.0, 76.9245283018868, 83.0], [69.0, 75.78846153846153, 81.0], [70.0, 76.20370370370371, 84.0], [69.0, 76.55555555555556, 81.0]]\n"
     ]
    }
   ],
   "source": [
    "# calculate the daily normals for your trip\n",
    "# push each tuple of calculations into a list called `normals`\n",
    "\n",
    "# Set the start and end date of the trip\n",
    "\n",
    "Start_date = \"20-07-2018\"\n",
    "End_date = \"24-07-2018\"\n",
    "# Use the start and end date to create a range of dates\n",
    "# start = dt.datetime.strptime(Start_date,'%Y/%m/%d')\n",
    "# end = dt.datetime.strptime(End_date,'%Y/%m/%d')\n",
    "start = dt.datetime.strptime(Start_date, \"%d-%m-%Y\")\n",
    "end = dt.datetime.strptime(End_date, \"%d-%m-%Y\")\n",
    "date_generated = [start + dt.timedelta(days=x) for x in range(0, (end+dt.timedelta(days=1)-start).days)]\n",
    "\n",
    "# Stip off the year and save a list of %m-%d strings\n",
    "dlist = []\n",
    "for date in date_generated:\n",
    "    dlist.append(date.strftime(\"%m-%d\"))\n",
    "print(dlist)\n",
    "\n",
    "\n",
    "# Loop through the list of %m-%d strings and calculate the normals for each date\n",
    "dnorm = []\n",
    "for d in dlist:\n",
    "    dnorm.append(daily_normals(d))\n",
    "\n",
    "\n",
    "dnorm = [x[0] for x in dnorm]\n",
    "dnorm = [list(x) for x in dnorm] \n",
    "print(dnorm)"
   ]
  },
  {
   "cell_type": "code",
   "execution_count": 473,
   "metadata": {},
   "outputs": [
    {
     "data": {
      "text/html": [
       "<div>\n",
       "<style scoped>\n",
       "    .dataframe tbody tr th:only-of-type {\n",
       "        vertical-align: middle;\n",
       "    }\n",
       "\n",
       "    .dataframe tbody tr th {\n",
       "        vertical-align: top;\n",
       "    }\n",
       "\n",
       "    .dataframe thead th {\n",
       "        text-align: right;\n",
       "    }\n",
       "</style>\n",
       "<table border=\"1\" class=\"dataframe\">\n",
       "  <thead>\n",
       "    <tr style=\"text-align: right;\">\n",
       "      <th></th>\n",
       "      <th>0</th>\n",
       "      <th>1</th>\n",
       "      <th>2</th>\n",
       "    </tr>\n",
       "  </thead>\n",
       "  <tbody>\n",
       "    <tr>\n",
       "      <th>07-20</th>\n",
       "      <td>69.0</td>\n",
       "      <td>75.462963</td>\n",
       "      <td>82.0</td>\n",
       "    </tr>\n",
       "    <tr>\n",
       "      <th>07-21</th>\n",
       "      <td>69.0</td>\n",
       "      <td>76.924528</td>\n",
       "      <td>83.0</td>\n",
       "    </tr>\n",
       "    <tr>\n",
       "      <th>07-22</th>\n",
       "      <td>69.0</td>\n",
       "      <td>75.788462</td>\n",
       "      <td>81.0</td>\n",
       "    </tr>\n",
       "    <tr>\n",
       "      <th>07-23</th>\n",
       "      <td>70.0</td>\n",
       "      <td>76.203704</td>\n",
       "      <td>84.0</td>\n",
       "    </tr>\n",
       "    <tr>\n",
       "      <th>07-24</th>\n",
       "      <td>69.0</td>\n",
       "      <td>76.555556</td>\n",
       "      <td>81.0</td>\n",
       "    </tr>\n",
       "  </tbody>\n",
       "</table>\n",
       "</div>"
      ],
      "text/plain": [
       "          0          1     2\n",
       "07-20  69.0  75.462963  82.0\n",
       "07-21  69.0  76.924528  83.0\n",
       "07-22  69.0  75.788462  81.0\n",
       "07-23  70.0  76.203704  84.0\n",
       "07-24  69.0  76.555556  81.0"
      ]
     },
     "execution_count": 473,
     "metadata": {},
     "output_type": "execute_result"
    }
   ],
   "source": [
    "# Load the previous query results into a Pandas DataFrame and add the `trip_dates` range as the `date` index\n",
    "norms = dict(zip(dlist, dnorm))\n",
    "norms\n",
    "df_norm = pd.DataFrame.from_dict(norms, orient='index')\n",
    "df_norm"
   ]
  },
  {
   "cell_type": "code",
   "execution_count": 474,
   "metadata": {},
   "outputs": [
    {
     "data": {
      "text/plain": [
       "Text(0, 0.5, 'Daily Normals')"
      ]
     },
     "execution_count": 474,
     "metadata": {},
     "output_type": "execute_result"
    },
    {
     "data": {
      "image/png": "[encoded data removed]",
      "text/plain": [
       "<Figure size 1152x648 with 1 Axes>"
      ]
     },
     "metadata": {},
     "output_type": "display_data"
    }
   ],
   "source": [
    "# Plot the daily normals as an area plot with `stacked=False`\n",
    "\n",
    "df_norm.plot.area(stacked=False, figsize = (16,9), grid = False, title = \"Trip Daily Normals\", legend = \"True\")\n",
    "plt.legend(loc='upper right',fontsize=10)\n",
    "plt.xlabel(\"Date\", fontsize=11)\n",
    "plt.ylabel(\"Daily Normals\", fontsize=11)"
   ]
  }
 ],
 "metadata": {
  "kernel_info": {
   "name": "python3"
  },
  "kernelspec": {
   "display_name": "Python 3",
   "language": "python",
   "name": "python3"
  },
  "language_info": {
   "codemirror_mode": {
    "name": "ipython",
    "version": 3
   },
   "file_extension": ".py",
   "mimetype": "text/x-python",
   "name": "python",
   "nbconvert_exporter": "python",
   "pygments_lexer": "ipython3",
   "version": "3.7.6"
  },
  "nteract": {
   "version": "0.12.3"
  },
  "varInspector": {
   "cols": {
    "lenName": 16,
    "lenType": 16,
    "lenVar": 40
   },
   "kernels_config": {
    "python": {
     "delete_cmd_postfix": "",
     "delete_cmd_prefix": "del ",
     "library": "var_list.py",
     "varRefreshCmd": "print(var_dic_list())"
    },
    "r": {
     "delete_cmd_postfix": ") ",
     "delete_cmd_prefix": "rm(",
     "library": "var_list.r",
     "varRefreshCmd": "cat(var_dic_list()) "
    }
   },
   "types_to_exclude": [
    "module",
    "function",
    "builtin_function_or_method",
    "instance",
    "_Feature"
   ],
   "window_display": false
  }
 },
 "nbformat": 4,
 "nbformat_minor": 4
}
